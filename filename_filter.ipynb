{
 "cells": [
  {
   "cell_type": "code",
   "execution_count": 3,
   "metadata": {},
   "outputs": [
    {
     "name": "stdout",
     "output_type": "stream",
     "text": [
      "Removed: ./testing_data\\output\\20241208-151418\\log.txt\n",
      "Removed: ./testing_data\\output\\20241208-151435\\._log.txt\n",
      "Removed: ./testing_data\\output\\20241208-151435\\log.txt\n",
      "Removed: ./testing_data\\output\\20241208-151952\\log.txt\n",
      "Removed: ./testing_data\\output-neg12-far\\20241216-125201\\log.txt\n",
      "Removed: ./testing_data\\output-neg12-far2\\20241216-131243\\log.txt\n",
      "Removed: ./testing_data\\output-neg12-far2\\20241216-131903\\log.txt\n",
      "Removed: ./testing_data\\output-neg12-far2\\20241216-132533\\log.txt\n",
      "Removed: ./testing_data\\output-neg12-far2\\20241216-133828\\log.txt\n",
      "Removed: ./testing_data\\output-neg12-far2\\20241216-134327\\log.txt\n",
      "Removed: ./testing_data\\output-neg12-medium\\20241216-135708\\log.txt\n",
      "Removed: ./testing_data\\output-neg15-far\\20241216-134622\\log.txt\n",
      "Removed: ./testing_data\\output-neg15-far\\20241216-135228\\log.txt\n",
      "Removed: ./testing_data\\output-neg3\\20241216-115238\\log.txt\n",
      "Removed: ./testing_data\\output-neg3\\20241216-115911\\log.txt\n",
      "Removed: ./testing_data\\output-neg3-far\\20241216-125806\\log.txt\n",
      "Removed: ./testing_data\\output-neg6\\log.txt\n"
     ]
    }
   ],
   "source": [
    "import os\n",
    "\n",
    "def replace_double_underscore_in_filenames(root_folder):\n",
    "    # Walk through all directories and files in the root folder\n",
    "    for dirpath, dirnames, filenames in os.walk(root_folder):\n",
    "        for filename in filenames:\n",
    "            if filename.endswith('.txt'):\n",
    "                \n",
    "                #remove the files with txt extension\n",
    "                os.remove(os.path .join(dirpath, filename))\n",
    "                print(f'Removed: {os.path.join(dirpath, filename)}')\n",
    "\n",
    "# Example usage\n",
    "root_folder = './testing_data'  # Replace with the path to your root folder\n",
    "replace_double_underscore_in_filenames(root_folder)"
   ]
  }
 ],
 "metadata": {
  "language_info": {
   "name": "python"
  }
 },
 "nbformat": 4,
 "nbformat_minor": 2
}
